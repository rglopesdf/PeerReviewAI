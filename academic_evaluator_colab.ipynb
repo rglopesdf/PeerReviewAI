{
 "cells": [
  {
   "cell_type": "markdown",
   "id": "1a38e6bf",
   "metadata": {},
   "source": [
    "# Avaliador Acadêmico com LLMs e Langgraph no Google Colab\n",
    "\n",
    "Este notebook permite executar o sistema de avaliação acadêmica diretamente no Google Colab. Siga os passos abaixo para configurar e rodar o avaliador."
   ]
  },
  {
   "cell_type": "markdown",
   "id": "5ece3b30",
   "metadata": {},
   "source": [
    "## Passo 1: Fazer Upload do Pacote do Projeto (`academic_evaluator.zip`)\n",
    "\n",
    "Execute a célula abaixo. Será solicitado que você escolha o arquivo `academic_evaluator.zip` que foi fornecido a você (contendo todo o projeto)."
   ]
  },
  {
   "cell_type": "code",
   "execution_count": null,
   "id": "a5e4b5c7",
   "metadata": {},
   "outputs": [],
   "source": [
    "from google.colab import files\n",
    "\n",
    "print(\"Por favor, faça o upload do arquivo academic_evaluator.zip\")\n",
    "uploaded = files.upload()\n",
    "\n",
    "for fn in uploaded.keys():\n",
    "  print(f\"Arquivo \t\"{fn}\" de {len(uploaded[fn])} bytes carregado com sucesso.\")\n",
    "  PROJECT_ZIP_NAME = fn # Salva o nome do arquivo zip para o próximo passo"
   ]
  },
  {
   "cell_type": "markdown",
   "id": "095c33b0",
   "metadata": {},
   "source": [
    "## Passo 2: Descompactar o Projeto\n",
    "\n",
    "Esta célula irá descompactar o arquivo `academic_evaluator.zip` que você acabou de carregar."
   ]
  },
  {
   "cell_type": "code",
   "execution_count": null,
   "id": "f77c037a",
   "metadata": {},
   "outputs": [],
   "source": [
    "import zipfile\n",
    "import os\n",
    "\n",
    "if \"PROJECT_ZIP_NAME\" in locals() and os.path.exists(PROJECT_ZIP_NAME):\n",
    "    print(f\"Descompactando {PROJECT_ZIP_NAME}...\")\n",
    "    extract_to_dir = \".\" # Descompacta na raiz do Colab /content/\n",
    "    with zipfile.ZipFile(PROJECT_ZIP_NAME, \"r\") as zip_ref:\n",
    "        zip_ref.extractall(extract_to_dir)\n",
    "    print(f\"Projeto descompactado com sucesso em {os.path.abspath(extract_to_dir)}.\")\n",
    "    # Verifica se o diretório principal do projeto existe após a descompactação\n",
    "    if os.path.isdir(\"academic_evaluator\"):\n",
    "        print(\"Diretório 'academic_evaluator' encontrado.\")\n",
    "    else:\n",
    "        print(\"ATENÇÃO: Diretório 'academic_evaluator' não encontrado após descompactação. Verifique o conteúdo do ZIP.\")\n",
    "else:\n",
    "  print(\"Erro: O arquivo do projeto ZIP não foi carregado ou não foi encontrado. Execute o Passo 1 primeiro.\")"
   ]
  },
  {
   "cell_type": "markdown",
   "id": "dc00192a",
   "metadata": {},
   "source": [
    "## Passo 3: Instalar as Dependências\n",
    "\n",
    "Agora, vamos instalar todas as bibliotecas Python necessárias listadas no arquivo `requirements.txt` do projeto."
   ]
  },
  {
   "cell_type": "code",
   "execution_count": null,
   "id": "453fbd8f",
   "metadata": {},
   "outputs": [],
   "source": [
    "import os\n",
    "\n",
    "REQUIREMENTS_PATH = \"academic_evaluator/requirements.txt\"\n",
    "\n",
    "if os.path.exists(REQUIREMENTS_PATH):\n",
    "  print(f\"Instalando dependências de {REQUIREMENTS_PATH}...\")\n",
    "  !pip install -q -r $REQUIREMENTS_PATH\n",
    "  print(\"Dependências instaladas.\")\n",
    "else:\n",
    "  print(f\"Erro: Arquivo {REQUIREMENTS_PATH} não encontrado. Certifique-se de que o projeto foi descompactado corretamente e que o arquivo existe.\")"
   ]
  },
  {
   "cell_type": "markdown",
   "id": "edb3fc1e",
   "metadata": {},
   "source": [
    "## Passo 4: Configurar as Chaves de API\n",
    "\n",
    "Execute a célula abaixo. Você será solicitado a inserir suas chaves de API para OpenAI e Gemini. Estas chaves são necessárias para que os modelos de linguagem possam ser acessados.\n",
    "\n",
    "**Importante**: Suas chaves de API serão usadas apenas nesta sessão do Colab e não serão armazenadas permanentemente no notebook."
   ]
  },
  {
   "cell_type": "code",
   "execution_count": null,
   "id": "2d51c3da",
   "metadata": {},
   "outputs": [],
   "source": [
    "import os\n",
    "from getpass import getpass\n",
    "\n",
    "print(\"Por favor, insira sua chave de API da OpenAI:\")\n",
    "openai_api_key = getpass()\n",
    "os.environ[\"OPENAI_API_KEY\"] = openai_api_key\n",
    "\n",
    "print(\"\n",
    "Por favor, insira sua chave de API do Gemini (Google AI Studio):\")\n",
    "gemini_api_key = getpass()\n",
    "os.environ[\"GEMINI_API_KEY\"] = gemini_api_key\n",
    "\n",
    "print(\"\n",
    "Chaves de API configuradas como variáveis de ambiente para esta sessão.\")"
   ]
  },
  {
   "cell_type": "markdown",
   "id": "18b3800b",
   "metadata": {},
   "source": [
    "## Passo 5: Verificar a Estrutura de Diretórios (Opcional)\n",
    "\n",
    "Esta célula lista o conteúdo do diretório `academic_evaluator` para confirmar que tudo foi configurado corretamente."
   ]
  },
  {
   "cell_type": "code",
   "execution_count": null,
   "id": "642cae1a",
   "metadata": {},
   "outputs": [],
   "source": [
    "import os\n",
    "\n",
    "PROJECT_DIR = \"academic_evaluator\"\n",
    "if os.path.isdir(PROJECT_DIR):\n",
    "  print(f\"Conteúdo do diretório {PROJECT_DIR}:\")\n",
    "  !ls -R $PROJECT_DIR\n",
    "else:\n",
    "  print(f\"Erro: Diretório {PROJECT_DIR} não encontrado.\")"
   ]
  },
  {
   "cell_type": "markdown",
   "id": "c9f367e1",
   "metadata": {},
   "source": [
    "## Passo 6: Executar a Avaliação\n",
    "\n",
    "Esta célula executará o script principal do avaliador acadêmico. Ele processará os PDFs no diretório `academic_evaluator/pdfs/` e gerará um relatório CSV.\n",
    "\n",
    "**Nota**: A execução pode levar alguns minutos, dependendo do número de trabalhos e da complexidade das avaliações.\n",
    "Certifique-se de que os arquivos PDF de exemplo (ou os seus próprios) estão no diretório `academic_evaluator/pdfs/` e o arquivo `State_of_AI_Report_2024.pptx` (ou o seu de referência) está em `academic_evaluator/reference_materials/` antes de executar."
   ]
  },
  {
   "cell_type": "code",
   "execution_count": null,
   "id": "ac150ab8",
   "metadata": {},
   "outputs": [],
   "source": [
    "import os\n",
    "import sys\n",
    "\n",
    "# Adiciona o diretório do projeto ao sys.path para que as importações funcionem\n",
    "# O diretório raiz do Colab é /content/, e o projeto é descompactado em /content/academic_evaluator\n",
    "base_project_dir = os.path.abspath(\".\") # /content/\n",
    "project_module_dir = os.path.join(base_project_dir, \"academic_evaluator\") # /content/academic_evaluator\n",
    "\n",
    "if project_module_dir not in sys.path:\n",
    "    sys.path.insert(0, project_module_dir)\n",
    "# Adicionar o diretório pai de src para que `from academic_evaluator.src...` funcione\n",
    "if base_project_dir not in sys.path:\n",
    "    sys.path.insert(0, base_project_dir)\n",
    "\n",
    "PDF_DIR = \"academic_evaluator/pdfs\"\n",
    "CONFIG_FILE = \"academic_evaluator/config/criteria.json\"\n",
    "REPORTS_DIR = \"academic_evaluator/reports\"\n",
    "REF_MATERIALS_DIR = \"academic_evaluator/reference_materials\"\n",
    "\n",
    "# Criar diretórios se não existirem (especialmente reports e os de input)\n",
    "os.makedirs(PDF_DIR, exist_ok=True)\n",
    "os.makedirs(REPORTS_DIR, exist_ok=True)\n",
    "os.makedirs(REF_MATERIALS_DIR, exist_ok=True)\n",
    "\n",
    "print(f\"Verificando diretório de PDFs: {os.path.abspath(PDF_DIR)}\")\n",
    "if not os.listdir(PDF_DIR):\n",
    "    print(f\"ATENÇÃO: Diretório de PDFs {PDF_DIR} está vazio. A avaliação pode não encontrar arquivos para processar.\")\n",
    "    print(f\"Por favor, adicione arquivos PDF ao diretório {PDF_DIR} no painel esquerdo do Colab (Files -> Upload to {PDF_DIR}) e re-execute esta célula se necessário.\")\n",
    "\n",
    "print(f\"Verificando arquivo de configuração: {os.path.abspath(CONFIG_FILE)}\")\n",
    "if not os.path.exists(CONFIG_FILE):\n",
    "    print(f\"ERRO CRÍTICO: Arquivo de configuração {CONFIG_FILE} não encontrado. A avaliação não pode prosseguir.\")\n",
    "else:\n",
    "    print(\"\n",
    "Iniciando o processo de avaliação...\")\n",
    "    # Chamada ao script principal como módulo. \n",
    "    # Os caminhos dos diretórios são relativos à raiz do Colab onde 'academic_evaluator' foi descompactado.\n",
    "    command = f\"python -m academic_evaluator.src.main --pdf_dir {PDF_DIR} --config_file {CONFIG_FILE} --reports_dir {REPORTS_DIR} --ref_materials_dir {REF_MATERIALS_DIR}\"\n",
    "    print(f\"Executando comando: {command}\")\n",
    "    !{command}\n",
    "    print(\"\n",
    "Avaliação concluída.\")"
   ]
  },
  {
   "cell_type": "markdown",
   "id": "8f49eef3",
   "metadata": {},
   "source": [
    "## Passo 7: Visualizar e Baixar o Relatório\n",
    "\n",
    "Após a execução, os relatórios CSV são salvos no diretório `academic_evaluator/reports/`. Esta célula lista os relatórios disponíveis e permite baixar o mais recente."
   ]
  },
  {
   "cell_type": "code",
   "execution_count": null,
   "id": "a9b5ba94",
   "metadata": {},
   "outputs": [],
   "source": [
    "import os\n",
    "import glob\n",
    "from google.colab import files\n",
    "\n",
    "REPORTS_DIR = \"academic_evaluator/reports\"\n",
    "\n",
    "if os.path.isdir(REPORTS_DIR):\n",
    "  report_files = glob.glob(os.path.join(REPORTS_DIR, \"*.csv\"))\n",
    "  if report_files:\n",
    "    latest_report = max(report_files, key=os.path.getctime)\n",
    "    print(f\"Relatórios encontrados em {os.path.abspath(REPORTS_DIR)}:\")\n",
    "    for rf in report_files:\n",
    "      print(f\"- {os.path.basename(rf)}\")\n",
    "    print(f\"\n",
    "O relatório mais recente é: {os.path.basename(latest_report)}\")\n",
    "    print(\"\n",
    "Para baixar o relatório mais recente, execute a próxima célula ou clique com o botão direito no arquivo no painel esquerdo (Files) e escolha \"Download\".\")\n",
    "  else:\n",
    "    print(f\"Nenhum relatório CSV encontrado em {REPORTS_DIR}.\")\n",
    "else:\n",
    "  print(f\"Erro: Diretório de relatórios {REPORTS_DIR} não encontrado.\")"
   ]
  },
  {
   "cell_type": "code",
   "execution_count": null,
   "id": "cace2508",
   "metadata": {},
   "outputs": [],
   "source": [
    "# Célula para download explícito do relatório mais recente (se existir)\n",
    "if \"latest_report\" in locals() and os.path.exists(latest_report):\n",
    "  print(f\"Iniciando download de {os.path.basename(latest_report)}...\")\n",
    "  files.download(latest_report)\n",
    "else:\n",
    "  print(\"Nenhum relatório para baixar ou a célula anterior não foi executada/não encontrou relatórios.\")"
   ]
  },
  {
   "cell_type": "markdown",
   "id": "560ca574",
   "metadata": {},
   "source": [
    "## Solução de Problemas e Dicas\n",
    "\n",
    "- **`academic_evaluator` não encontrado**: Certifique-se de que você fez o upload do `academic_evaluator.zip` e executou a célula de descompactação (Passo 2) corretamente.\n",
    "- **Chaves de API**: Se houver erros de autenticação com OpenAI ou Gemini, verifique se você inseriu as chaves corretamente no Passo 4.\n",
    "- **Arquivos PDF/PPTX**: Para avaliar seus próprios trabalhos, faça o upload deles para o diretório `academic_evaluator/pdfs/` e, se necessário, materiais de referência para `academic_evaluator/reference_materials/` usando o painel de arquivos à esquerda no Colab. Depois, re-execute o Passo 6.\n",
    "- **Modificar Critérios**: Para modificar os critérios de avaliação, você pode editar o arquivo `academic_evaluator/config/criteria.json` diretamente no Colab (clique duas vezes no arquivo no painel de arquivos) antes de executar o Passo 6.\n",
    "- **Erro de Importação de Módulo**: Se você encontrar erros como `ModuleNotFoundError` ao executar o Passo 6, certifique-se de que o Passo 2 (descompactação) foi concluído com sucesso e o diretório `academic_evaluator` está presente na raiz do seu ambiente Colab (`/content/academic_evaluator`). A célula de execução da avaliação tenta adicionar os caminhos corretos ao `sys.path`, mas a estrutura de diretórios deve estar correta."
   ]
  }
 ],
 "metadata": {},
 "nbformat": 4,
 "nbformat_minor": 5
}
