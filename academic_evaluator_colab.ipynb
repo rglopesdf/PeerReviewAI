{
 "cells": [
  {
   "cell_type": "markdown",
   "metadata": {},
   "source": [
    "# Avaliador Acadêmico com LLMs e Langgraph no Google Colab\n",
    "\n",
    "Este notebook permite executar o sistema de avaliação acadêmica diretamente no Google Colab. Siga os passos abaixo para configurar e rodar o avaliador."
   ]
  },
  {
   "cell_type": "markdown",
   "metadata": {},
   "source": [
    "## Passo 1: Fazer Upload do Pacote do Projeto (`academic_evaluator.zip`)\n",
    "\n",
    "Execute a célula abaixo. Será solicitado que você escolha o arquivo `academic_evaluator.zip` que foi fornecido a você."
   ]
  },
  {
   "cell_type": "code",
   "execution_count": null,
   "metadata": {},
   "outputs": [],
   "source": [
    "from google.colab import files\n",
    "\n",
    "print('Por favor, faça o upload do arquivo academic_evaluator.zip')\n",
    "uploaded = files.upload()\n",
    "\n",
    "for fn in uploaded.keys():\n",
    "  print(f'Arquivo "{fn}" de {len(uploaded[fn])} bytes carregado com sucesso.')\n",
    "  PROJECT_ZIP_NAME = fn # Salva o nome do arquivo zip para o próximo passo"
   ]
  },
  {
   "cell_type": "markdown",
   "metadata": {},
   "source": [
    "## Passo 2: Descompactar o Projeto\n",
    "\n",
    "Esta célula irá descompactar o arquivo `academic_evaluator.zip` que você acabou de carregar."
   ]
  },
  {
   "cell_type": "code",
   "execution_count": null,
   "metadata": {},
   "outputs": [],
   "source": [
    "import zipfile\n",
    "import os\n",
    "\n",
    "if 'PROJECT_ZIP_NAME' in locals() and os.path.exists(PROJECT_ZIP_NAME):\n",
    "    print(f'Descompactando {PROJECT_ZIP_NAME}...')\n",
    "    with zipfile.ZipFile(PROJECT_ZIP_NAME, 'r') as zip_ref:\n",
    "        zip_ref.extractall('.')\n",
    "    print('Projeto descompactado com sucesso na raiz do ambiente Colab.')\n",
    "    # Verifica se o diretório principal do projeto existe após a descompactação
",
    "    if os.path.isdir('academic_evaluator'):\n",
    "        print("Diretório 'academic_evaluator' encontrado.")\n",
    "    else:\n",
    "        print("ATENÇÃO: Diretório 'academic_evaluator' não encontrado após descompactação. Verifique o conteúdo do ZIP.")\n",
    "else:\n",
    "  print('Erro: O arquivo do projeto ZIP não foi carregado ou não foi encontrado. Execute o Passo 1 primeiro.')"
   ]
  },
  {
   "cell_type": "markdown",
   "metadata": {},
   "source": [
    "## Passo 3: Instalar as Dependências\n",
    "\n",
    "Agora, vamos instalar todas as bibliotecas Python necessárias listadas no arquivo `requirements.txt` do projeto."
   ]
  },
  {
   "cell_type": "code",
   "execution_count": null,
   "metadata": {},
   "outputs": [],
   "source": [
    "import os\n",
    "\n",
    "REQUIREMENTS_PATH = 'academic_evaluator/requirements.txt'\n",
    "\n",
    "if os.path.exists(REQUIREMENTS_PATH):\n",
    "  print('Instalando dependências de academic_evaluator/requirements.txt...')\n",
    "  !pip install -r $REQUIREMENTS_PATH\n",
    "  print('Dependências instaladas.')\n",
    "else:\n",
    "  print(f'Erro: Arquivo {REQUIREMENTS_PATH} não encontrado. Certifique-se de que o projeto foi descompactado corretamente e que o arquivo existe.')"
   ]
  },
  {
   "cell_type": "markdown",
   "metadata": {},
   "source": [
    "## Passo 4: Configurar as Chaves de API\n",
    "\n",
    "Execute a célula abaixo. Você será solicitado a inserir suas chaves de API para OpenAI e Gemini. Estas chaves são necessárias para que os modelos de linguagem possam ser acessados.\n",
    "\n",
    "**Importante**: Suas chaves de API serão usadas apenas nesta sessão do Colab e não serão armazenadas permanentemente no notebook."
   ]
  },
  {
   "cell_type": "code",
   "execution_count": null,
   "metadata": {},
   "outputs": [],
   "source": [
    "import os\n",
    "from getpass import getpass\n",
    "\n",
    "print('Por favor, insira sua chave de API da OpenAI:')\n",
    "openai_api_key = getpass()\n",
    "os.environ['OPENAI_API_KEY'] = openai_api_key\n",
    "\n",
    "print('\nPor favor, insira sua chave de API do Gemini (Google AI Studio):')\n",
    "gemini_api_key = getpass()\n",
    "os.environ['GEMINI_API_KEY'] = gemini_api_key\n",
    "\n",
    "print('\nChaves de API configuradas como variáveis de ambiente para esta sessão.')"
   ]
  },
  {
   "cell_type": "markdown",
   "metadata": {},
   "source": [
    "## Passo 5: Verificar a Estrutura de Diretórios (Opcional)\n",
    "\n",
    "Esta célula lista o conteúdo do diretório `academic_evaluator` para confirmar que tudo foi configurado corretamente."
   ]
  },
  {
   "cell_type": "code",
   "execution_count": null,
   "metadata": {},
   "outputs": [],
   "source": [
    "import os\n",
    "\n",
    "PROJECT_DIR = 'academic_evaluator'\n",
    "if os.path.isdir(PROJECT_DIR):\n",
    "  print(f'Conteúdo do diretório {PROJECT_DIR}:')\n",
    "  !ls -R $PROJECT_DIR\n",
    "else:\n",
    "  print(f'Erro: Diretório {PROJECT_DIR} não encontrado.')"
   ]
  },
  {
   "cell_type": "markdown",
   "metadata": {},
   "source": [
    "## Passo 6: Executar a Avaliação\n",
    "\n",
    "Esta célula executará o script principal do avaliador acadêmico. Ele processará os PDFs de exemplo no diretório `academic_evaluator/pdfs/` (ou outros que você adicionar lá) e gerará um relatório CSV.\n",
    "\n",
    "**Nota**: A execução pode levar alguns minutos, dependendo do número de trabalhos e da complexidade das avaliações."
   ]
  },
  {
   "cell_type": "code",
   "execution_count": null,
   "metadata": {},
   "outputs": [],
   "source": [
    "import os\n",
    "\n",
    "# Certifique-se de que estamos no diretório correto para que o Python encontre os módulos
",
    "# O script main.py já adiciona o diretório pai (academic_evaluator) ao sys.path
",
    "# mas para executar como módulo, o Python precisa ser chamado do diretório que contém 'academic_evaluator'
",
    "# No Colab, após descompactar, 'academic_evaluator' estará na raiz '/content/'
",
    "\n",
    "PDF_DIR = 'academic_evaluator/pdfs'\n",
    "CONFIG_FILE = 'academic_evaluator/config/criteria.json'\n",
    "REPORTS_DIR = 'academic_evaluator/reports'\n",
    "REF_MATERIALS_DIR = 'academic_evaluator/reference_materials'\n",
    "\n",
    "print(f'Verificando diretório de PDFs: {PDF_DIR}')\n",
    "if not os.path.isdir(PDF_DIR):\n",
    "    print(f'ATENÇÃO: Diretório de PDFs {PDF_DIR} não encontrado. Criando...')\n",
    "    os.makedirs(PDF_DIR, exist_ok=True)\n",
    "    print(f'Por favor, adicione arquivos PDF ao diretório {PDF_DIR} no painel esquerdo do Colab (Files -> Upload to {PDF_DIR}) e re-execute esta célula se necessário.')\n",
    "\n",
    "print(f'Verificando diretório de materiais de referência: {REF_MATERIALS_DIR}')\n",
    "if not os.path.isdir(REF_MATERIALS_DIR):\n",
    "    print(f'ATENÇÃO: Diretório de materiais de referência {REF_MATERIALS_DIR} não encontrado. Criando...')\n",
    "    os.makedirs(REF_MATERIALS_DIR, exist_ok=True)\n",
    "\n",
    "print(f'Verificando arquivo de configuração: {CONFIG_FILE}')\n",
    "if not os.path.exists(CONFIG_FILE):\n",
    "    print(f'ERRO CRÍTICO: Arquivo de configuração {CONFIG_FILE} não encontrado. A avaliação não pode prosseguir.')\n",
    "else:\n",
    "    print('\nIniciando o processo de avaliação...')\n",
    "    # Usamos caminhos relativos ao diretório raiz do Colab onde 'academic_evaluator' foi descompactado
",
    "    !python -m academic_evaluator.src.main --pdf_dir $PDF_DIR --config_file $CONFIG_FILE --reports_dir $REPORTS_DIR --ref_materials_dir $REF_MATERIALS_DIR\n",
    "    print('\nAvaliação concluída.')"
   ]
  },
  {
   "cell_type": "markdown",
   "metadata": {},
   "source": [
    "## Passo 7: Visualizar e Baixar o Relatório\n",
    "\n",
    "Após a execução, os relatórios CSV são salvos no diretório `academic_evaluator/reports/`. Esta célula lista os relatórios disponíveis e permite baixar o mais recente."
   ]
  },
  {
   "cell_type": "code",
   "execution_count": null,
   "metadata": {},
   "outputs": [],
   "source": [
    "import os\n",
    "import glob\n",
    "from google.colab import files\n",
    "\n",
    "REPORTS_DIR = 'academic_evaluator/reports'\n",
    "\n",
    "if os.path.isdir(REPORTS_DIR):\n",
    "  report_files = glob.glob(os.path.join(REPORTS_DIR, '*.csv'))\n",
    "  if report_files:\n",
    "    latest_report = max(report_files, key=os.path.getctime)\n",
    "    print(f'Relatórios encontrados em {REPORTS_DIR}:')\n",
    "    for rf in report_files:\n",
    "      print(f'- {os.path.basename(rf)}')\n",
    "    print(f'\nO relatório mais recente é: {os.path.basename(latest_report)}')\n",
    "    print('\nPara baixar o relatório mais recente, execute a próxima célula ou clique com o botão direito no arquivo no painel esquerdo (Files) e escolha "Download".')\n",
    "    # files.download(latest_report) # Descomente esta linha para baixar automaticamente o último relatório
",
    "  else:\n",
    "    print(f'Nenhum relatório CSV encontrado em {REPORTS_DIR}.')\n",
    "else:\n",
    "  print(f'Erro: Diretório de relatórios {REPORTS_DIR} não encontrado.')"
   ]
  },
   {
   "cell_type": "code",
   "execution_count": null,
   "metadata": {},
   "outputs": [],
   "source": [
    "# Célula para download explícito do relatório mais recente (se existir)
",
    "if 'latest_report' in locals() and os.path.exists(latest_report):\n",
    "  print(f'Iniciando download de {os.path.basename(latest_report)}...')\n",
    "  files.download(latest_report)\n",
    "else:\n",
    "  print('Nenhum relatório para baixar ou a célula anterior não foi executada/não encontrou relatórios.')"
   ]
  },
  {
   "cell_type": "markdown",
   "metadata": {},
   "source": [
    "## Solução de Problemas e Dicas\n",
    "\n",
    "- **`academic_evaluator` não encontrado**: Certifique-se de que você fez o upload do `academic_evaluator.zip` e executou a célula de descompactação (Passo 2) corretamente.\n",
    "- **Chaves de API**: Se houver erros de autenticação com OpenAI ou Gemini, verifique se você inseriu as chaves corretamente no Passo 4.\n",
    "- **Arquivos PDF/PPTX**: Para avaliar seus próprios trabalhos, faça o upload deles para o diretório `academic_evaluator/pdfs/` e, se necessário, materiais de referência para `academic_evaluator/reference_materials/` usando o painel de arquivos à esquerda no Colab. Depois, re-execute o Passo 6.\n",
    "- **Modificar Critérios**: Para modificar os critérios de avaliação, você pode editar o arquivo `academic_evaluator/config/criteria.json` diretamente no Colab (clique duas vezes no arquivo no painel de arquivos) antes de executar o Passo 6."
   ]
  }
 ],
 "metadata": {
  "kernelspec": {
   "display_name": "Python 3",
   "language": "python",
   "name": "python3"
  },
  "language_info": {
   "codemirror_mode": {
    "name": "ipython",
    "version": 3
   },
   "file_extension": ".py",
   "mimetype": "text/x-python",
   "name": "python",
   "nbconvert_exporter": "python",
   "pygments_lexer": "ipython3",
   "version": "3.10.12"  
  }
 },
 "nbformat": 4,
 "nbformat_minor": 5
}

